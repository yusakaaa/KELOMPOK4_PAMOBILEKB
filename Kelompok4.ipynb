{
  "cells": [
    {
      "cell_type": "markdown",
      "source": [
        "Kode untuk mengimpor berbagai modul yang dibutuhkan untuk analisis data dan machine learning. Pandas digunakan untuk manipulasi data dalam bentuk tabel, sedangkan NumPy untuk operasi matematis pada array. Seaborn dan Matplotlib membantu membuat visualisasi data yang informatif dan menarik. Untuk membagi dataset, digunakan train_test_split, sementara StandardScaler menstandarkan data. Model RandomForestClassifier dipakai sebagai algoritma machine learning berbasis ensemble untuk klasifikasi, dan evaluasi model dilakukan menggunakan metrik seperti accuracy_score, confusion_matrix, dan classification_report untuk mengukur performa prediksi model.\n"
      ],
      "metadata": {
        "id": "4_j2gPHPweU5"
      }
    },
    {
      "cell_type": "code",
      "execution_count": null,
      "metadata": {
        "id": "ZS89J0-MPN1R"
      },
      "outputs": [],
      "source": [
        "import pandas as pd\n",
        "import numpy as np\n",
        "import seaborn as sns\n",
        "import matplotlib.pyplot as plt\n",
        "from sklearn.model_selection import train_test_split\n",
        "from sklearn.preprocessing import StandardScaler\n",
        "from sklearn.ensemble import RandomForestClassifier\n",
        "from sklearn.metrics import accuracy_score, confusion_matrix, classification_report\n"
      ]
    },
    {
      "cell_type": "markdown",
      "source": [
        "Kode ini digunakan untuk memuat dan memeriksa dataset. Dataset dimuat menggunakan `pd.read_csv`, yang membaca file CSV ke dalam DataFrame bernama `df`. Baris awal dataset ditampilkan dengan `df.head()` untuk memberikan gambaran isi data. `df.info()` digunakan untuk menampilkan informasi umum tentang dataset, seperti jumlah kolom, tipe data, dan jumlah entri non-null. Terakhir, `df.isnull().sum()` digunakan untuk memeriksa jumlah nilai yang hilang pada setiap kolom, yang penting untuk tahap praproses data.\n"
      ],
      "metadata": {
        "id": "y1k0gqCrwopv"
      }
    },
    {
      "cell_type": "code",
      "execution_count": null,
      "metadata": {
        "colab": {
          "base_uri": "https://localhost:8080/"
        },
        "id": "PMS5lILRPhZX",
        "outputId": "288cc7f0-826f-4a3a-9710-e2eef7888c1c"
      },
      "outputs": [
        {
          "output_type": "stream",
          "name": "stdout",
          "text": [
            "  species     island  culmen_length_mm  culmen_depth_mm  flipper_length_mm  \\\n",
            "0  Adelie  Torgersen              39.1             18.7              181.0   \n",
            "1  Adelie  Torgersen              39.5             17.4              186.0   \n",
            "2  Adelie  Torgersen              40.3             18.0              195.0   \n",
            "3  Adelie  Torgersen               NaN              NaN                NaN   \n",
            "4  Adelie  Torgersen              36.7             19.3              193.0   \n",
            "\n",
            "   body_mass_g     sex  \n",
            "0       3750.0    MALE  \n",
            "1       3800.0  FEMALE  \n",
            "2       3250.0  FEMALE  \n",
            "3          NaN     NaN  \n",
            "4       3450.0  FEMALE  \n",
            "<class 'pandas.core.frame.DataFrame'>\n",
            "RangeIndex: 344 entries, 0 to 343\n",
            "Data columns (total 7 columns):\n",
            " #   Column             Non-Null Count  Dtype  \n",
            "---  ------             --------------  -----  \n",
            " 0   species            344 non-null    object \n",
            " 1   island             344 non-null    object \n",
            " 2   culmen_length_mm   342 non-null    float64\n",
            " 3   culmen_depth_mm    342 non-null    float64\n",
            " 4   flipper_length_mm  342 non-null    float64\n",
            " 5   body_mass_g        342 non-null    float64\n",
            " 6   sex                334 non-null    object \n",
            "dtypes: float64(4), object(3)\n",
            "memory usage: 18.9+ KB\n",
            "None\n",
            "species               0\n",
            "island                0\n",
            "culmen_length_mm      2\n",
            "culmen_depth_mm       2\n",
            "flipper_length_mm     2\n",
            "body_mass_g           2\n",
            "sex                  10\n",
            "dtype: int64\n"
          ]
        }
      ],
      "source": [
        "# Memuat dataset\n",
        "df = pd.read_csv('penguins_size.csv')\n",
        "\n",
        "# Melihat beberapa baris awal dari dataset\n",
        "print(df.head())\n",
        "\n",
        "# Memeriksa informasi umum dari dataset (kolom dan tipe data)\n",
        "print(df.info())\n",
        "\n",
        "# Memeriksa nilai yang hilang\n",
        "print(df.isnull().sum())\n"
      ]
    },
    {
      "cell_type": "markdown",
      "source": [
        "Kode ini melakukan pembersihan data pada dataset. Baris dengan nilai yang hilang dihapus menggunakan `df.dropna()` untuk memastikan data bersih sebelum analisis lebih lanjut. Kolom `sex` kemudian dikonversi menjadi nilai numerik dengan `df['sex'].map({'Male': 0, 'Female': 1})`, sehingga data lebih mudah diolah oleh model machine learning. Terakhir, `df.head()` digunakan untuk memeriksa data setelah proses pembersihan dan transformasi.\n"
      ],
      "metadata": {
        "id": "HIKkOf5YwwYq"
      }
    },
    {
      "cell_type": "code",
      "execution_count": null,
      "metadata": {
        "colab": {
          "base_uri": "https://localhost:8080/"
        },
        "id": "BlMXM5oQPjY-",
        "outputId": "1b751e10-befe-4775-e59e-71096a7e213b"
      },
      "outputs": [
        {
          "output_type": "stream",
          "name": "stdout",
          "text": [
            "  species     island  culmen_length_mm  culmen_depth_mm  flipper_length_mm  \\\n",
            "0  Adelie  Torgersen              39.1             18.7              181.0   \n",
            "1  Adelie  Torgersen              39.5             17.4              186.0   \n",
            "2  Adelie  Torgersen              40.3             18.0              195.0   \n",
            "4  Adelie  Torgersen              36.7             19.3              193.0   \n",
            "5  Adelie  Torgersen              39.3             20.6              190.0   \n",
            "\n",
            "   body_mass_g  sex  \n",
            "0       3750.0  NaN  \n",
            "1       3800.0  NaN  \n",
            "2       3250.0  NaN  \n",
            "4       3450.0  NaN  \n",
            "5       3650.0  NaN  \n"
          ]
        },
        {
          "output_type": "stream",
          "name": "stderr",
          "text": [
            "<ipython-input-3-360aaac28e8f>:5: SettingWithCopyWarning: \n",
            "A value is trying to be set on a copy of a slice from a DataFrame.\n",
            "Try using .loc[row_indexer,col_indexer] = value instead\n",
            "\n",
            "See the caveats in the documentation: https://pandas.pydata.org/pandas-docs/stable/user_guide/indexing.html#returning-a-view-versus-a-copy\n",
            "  df['sex'] = df['sex'].map({'Male': 0, 'Female': 1})\n"
          ]
        }
      ],
      "source": [
        "# Menghapus baris dengan nilai yang hilang\n",
        "df = df.dropna()\n",
        "\n",
        "# Mengkonversi kolom 'sex' menjadi numerik (Male=0, Female=1)\n",
        "df['sex'] = df['sex'].map({'Male': 0, 'Female': 1})\n",
        "\n",
        "# Memeriksa data setelah pembersihan\n",
        "print(df.head())\n"
      ]
    },
    {
      "cell_type": "markdown",
      "source": [
        "Kode ini memilih fitur (X) dan target (y) dari dataset untuk proses machine learning. **`X`** berisi kolom fitur yang relevan, yaitu `culmen_length_mm`, `culmen_depth_mm`, `flipper_length_mm`, `body_mass_g`, dan `sex`, yang digunakan sebagai input untuk model. Sementara itu, **`y`** adalah kolom target `species`, yang merepresentasikan kategori spesies penguin yang akan diprediksi oleh model.\n"
      ],
      "metadata": {
        "id": "Ub5s71T3w8E8"
      }
    },
    {
      "cell_type": "code",
      "execution_count": null,
      "metadata": {
        "id": "OpD_QczEPl0c"
      },
      "outputs": [],
      "source": [
        "# Memilih fitur (X) dan target (y)\n",
        "X = df[['culmen_length_mm', 'culmen_depth_mm', 'flipper_length_mm', 'body_mass_g', 'sex']]\n",
        "y = df['species']  # Target: species (kategori penguin)\n"
      ]
    },
    {
      "cell_type": "markdown",
      "source": [
        "Kode ini memilih fitur (X) dan target (y) dari dataset untuk proses machine learning. `X` berisi kolom fitur yang relevan, yaitu `culmen_length_mm`, `culmen_depth_mm`, `flipper_length_mm`, `body_mass_g`, dan `sex`, yang digunakan sebagai input untuk model. Sementara itu, `y` adalah kolom target `species`, yang merepresentasikan kategori spesies penguin yang akan diprediksi oleh model.\n"
      ],
      "metadata": {
        "id": "p13Z8sMQxB7k"
      }
    },
    {
      "cell_type": "code",
      "execution_count": null,
      "metadata": {
        "colab": {
          "base_uri": "https://localhost:8080/"
        },
        "id": "jMq9-wgkPn-R",
        "outputId": "80ff09b4-ac11-439c-e61f-4a673c206b87"
      },
      "outputs": [
        {
          "output_type": "stream",
          "name": "stdout",
          "text": [
            "Ukuran X_train: (267, 5), Ukuran X_test: (67, 5)\n"
          ]
        }
      ],
      "source": [
        "# Membagi data menjadi training dan testing (80% training, 20% testing)\n",
        "X_train, X_test, y_train, y_test = train_test_split(X, y, test_size=0.2, random_state=42)\n",
        "\n",
        "# Verifikasi ukuran data\n",
        "print(f\"Ukuran X_train: {X_train.shape}, Ukuran X_test: {X_test.shape}\")\n"
      ]
    },
    {
      "cell_type": "markdown",
      "source": [
        "Kode ini melakukan normalisasi pada fitur untuk memastikan data berada dalam skala yang seragam, yang penting untuk algoritma machine learning. **`StandardScaler digunakan untuk menstandarisasi data, dengan menghitung rata-rata dan standar deviasi dari data pelatihan (**`X_train) dan menerapkannya pada data uji (*`X_test). Setelah normalisasi, `X_train_scaled dan `X_test_scaled berisi data yang telah distandarisasi. Terakhir, **`print(X_train_scaled[:5]) digunakan untuk memverifikasi hasil normalisasi dengan menampilkan lima baris pertama dari data pelatihan yang telah dinormalisasi.\n"
      ],
      "metadata": {
        "id": "urmMOcbxxGb-"
      }
    },
    {
      "cell_type": "code",
      "execution_count": null,
      "metadata": {
        "colab": {
          "base_uri": "https://localhost:8080/"
        },
        "id": "ajkDHY0NPsAt",
        "outputId": "9d0ae52a-7b9a-445c-dbf0-e45a68cfa50f"
      },
      "outputs": [
        {
          "output_type": "stream",
          "name": "stdout",
          "text": [
            "Contoh data setelah normalisasi:\n",
            "[[-0.59644741 -1.74305279  0.92164858  0.53357206         nan]\n",
            " [-1.26580555  0.32761448 -0.72413331 -1.07374286         nan]\n",
            " [ 1.09554123 -0.63196304  1.63720593  1.39904932         nan]\n",
            " [-1.52611149  1.0346716  -0.86724478 -0.51736462         nan]\n",
            " [-0.67082053  0.88315936 -1.51124639 -0.3319052          nan]]\n"
          ]
        },
        {
          "output_type": "stream",
          "name": "stderr",
          "text": [
            "/usr/local/lib/python3.10/dist-packages/sklearn/utils/extmath.py:1137: RuntimeWarning: invalid value encountered in divide\n",
            "  updated_mean = (last_sum + new_sum) / updated_sample_count\n",
            "/usr/local/lib/python3.10/dist-packages/sklearn/utils/extmath.py:1142: RuntimeWarning: invalid value encountered in divide\n",
            "  T = new_sum / new_sample_count\n",
            "/usr/local/lib/python3.10/dist-packages/sklearn/utils/extmath.py:1162: RuntimeWarning: invalid value encountered in divide\n",
            "  new_unnormalized_variance -= correction**2 / new_sample_count\n"
          ]
        }
      ],
      "source": [
        "# Normalisasi fitur\n",
        "scaler = StandardScaler()\n",
        "X_train_scaled = scaler.fit_transform(X_train)\n",
        "X_test_scaled = scaler.transform(X_test)\n",
        "\n",
        "# Verifikasi hasil normalisasi\n",
        "print(\"Contoh data setelah normalisasi:\")\n",
        "print(X_train_scaled[:5])\n"
      ]
    },
    {
      "cell_type": "markdown",
      "source": [
        "Kode ini membangun dan melatih model Random Forest Classifier. `RandomForestClassifier` dibuat dengan parameter `n_estimators=100`, yang menunjukkan jumlah pohon keputusan yang digunakan dalam hutan acak, dan `random_state=42` untuk memastikan hasil yang konsisten setiap kali kode dijalankan. Model kemudian dilatih menggunakan data pelatihan yang telah dinormalisasi (`X_train_scaled`) dan target yang sesuai (`y_train`) dengan menggunakan `model.fit()`.\n"
      ],
      "metadata": {
        "id": "AIjDCwkbxQgl"
      }
    },
    {
      "cell_type": "code",
      "execution_count": null,
      "metadata": {
        "colab": {
          "base_uri": "https://localhost:8080/",
          "height": 80
        },
        "id": "Ux6wWPRMPtXk",
        "outputId": "9078664a-fbf2-4f7f-f283-6ad6aa31f298"
      },
      "outputs": [
        {
          "output_type": "execute_result",
          "data": {
            "text/plain": [
              "RandomForestClassifier(random_state=42)"
            ],
            "text/html": [
              "<style>#sk-container-id-1 {\n",
              "  /* Definition of color scheme common for light and dark mode */\n",
              "  --sklearn-color-text: black;\n",
              "  --sklearn-color-line: gray;\n",
              "  /* Definition of color scheme for unfitted estimators */\n",
              "  --sklearn-color-unfitted-level-0: #fff5e6;\n",
              "  --sklearn-color-unfitted-level-1: #f6e4d2;\n",
              "  --sklearn-color-unfitted-level-2: #ffe0b3;\n",
              "  --sklearn-color-unfitted-level-3: chocolate;\n",
              "  /* Definition of color scheme for fitted estimators */\n",
              "  --sklearn-color-fitted-level-0: #f0f8ff;\n",
              "  --sklearn-color-fitted-level-1: #d4ebff;\n",
              "  --sklearn-color-fitted-level-2: #b3dbfd;\n",
              "  --sklearn-color-fitted-level-3: cornflowerblue;\n",
              "\n",
              "  /* Specific color for light theme */\n",
              "  --sklearn-color-text-on-default-background: var(--sg-text-color, var(--theme-code-foreground, var(--jp-content-font-color1, black)));\n",
              "  --sklearn-color-background: var(--sg-background-color, var(--theme-background, var(--jp-layout-color0, white)));\n",
              "  --sklearn-color-border-box: var(--sg-text-color, var(--theme-code-foreground, var(--jp-content-font-color1, black)));\n",
              "  --sklearn-color-icon: #696969;\n",
              "\n",
              "  @media (prefers-color-scheme: dark) {\n",
              "    /* Redefinition of color scheme for dark theme */\n",
              "    --sklearn-color-text-on-default-background: var(--sg-text-color, var(--theme-code-foreground, var(--jp-content-font-color1, white)));\n",
              "    --sklearn-color-background: var(--sg-background-color, var(--theme-background, var(--jp-layout-color0, #111)));\n",
              "    --sklearn-color-border-box: var(--sg-text-color, var(--theme-code-foreground, var(--jp-content-font-color1, white)));\n",
              "    --sklearn-color-icon: #878787;\n",
              "  }\n",
              "}\n",
              "\n",
              "#sk-container-id-1 {\n",
              "  color: var(--sklearn-color-text);\n",
              "}\n",
              "\n",
              "#sk-container-id-1 pre {\n",
              "  padding: 0;\n",
              "}\n",
              "\n",
              "#sk-container-id-1 input.sk-hidden--visually {\n",
              "  border: 0;\n",
              "  clip: rect(1px 1px 1px 1px);\n",
              "  clip: rect(1px, 1px, 1px, 1px);\n",
              "  height: 1px;\n",
              "  margin: -1px;\n",
              "  overflow: hidden;\n",
              "  padding: 0;\n",
              "  position: absolute;\n",
              "  width: 1px;\n",
              "}\n",
              "\n",
              "#sk-container-id-1 div.sk-dashed-wrapped {\n",
              "  border: 1px dashed var(--sklearn-color-line);\n",
              "  margin: 0 0.4em 0.5em 0.4em;\n",
              "  box-sizing: border-box;\n",
              "  padding-bottom: 0.4em;\n",
              "  background-color: var(--sklearn-color-background);\n",
              "}\n",
              "\n",
              "#sk-container-id-1 div.sk-container {\n",
              "  /* jupyter's `normalize.less` sets `[hidden] { display: none; }`\n",
              "     but bootstrap.min.css set `[hidden] { display: none !important; }`\n",
              "     so we also need the `!important` here to be able to override the\n",
              "     default hidden behavior on the sphinx rendered scikit-learn.org.\n",
              "     See: https://github.com/scikit-learn/scikit-learn/issues/21755 */\n",
              "  display: inline-block !important;\n",
              "  position: relative;\n",
              "}\n",
              "\n",
              "#sk-container-id-1 div.sk-text-repr-fallback {\n",
              "  display: none;\n",
              "}\n",
              "\n",
              "div.sk-parallel-item,\n",
              "div.sk-serial,\n",
              "div.sk-item {\n",
              "  /* draw centered vertical line to link estimators */\n",
              "  background-image: linear-gradient(var(--sklearn-color-text-on-default-background), var(--sklearn-color-text-on-default-background));\n",
              "  background-size: 2px 100%;\n",
              "  background-repeat: no-repeat;\n",
              "  background-position: center center;\n",
              "}\n",
              "\n",
              "/* Parallel-specific style estimator block */\n",
              "\n",
              "#sk-container-id-1 div.sk-parallel-item::after {\n",
              "  content: \"\";\n",
              "  width: 100%;\n",
              "  border-bottom: 2px solid var(--sklearn-color-text-on-default-background);\n",
              "  flex-grow: 1;\n",
              "}\n",
              "\n",
              "#sk-container-id-1 div.sk-parallel {\n",
              "  display: flex;\n",
              "  align-items: stretch;\n",
              "  justify-content: center;\n",
              "  background-color: var(--sklearn-color-background);\n",
              "  position: relative;\n",
              "}\n",
              "\n",
              "#sk-container-id-1 div.sk-parallel-item {\n",
              "  display: flex;\n",
              "  flex-direction: column;\n",
              "}\n",
              "\n",
              "#sk-container-id-1 div.sk-parallel-item:first-child::after {\n",
              "  align-self: flex-end;\n",
              "  width: 50%;\n",
              "}\n",
              "\n",
              "#sk-container-id-1 div.sk-parallel-item:last-child::after {\n",
              "  align-self: flex-start;\n",
              "  width: 50%;\n",
              "}\n",
              "\n",
              "#sk-container-id-1 div.sk-parallel-item:only-child::after {\n",
              "  width: 0;\n",
              "}\n",
              "\n",
              "/* Serial-specific style estimator block */\n",
              "\n",
              "#sk-container-id-1 div.sk-serial {\n",
              "  display: flex;\n",
              "  flex-direction: column;\n",
              "  align-items: center;\n",
              "  background-color: var(--sklearn-color-background);\n",
              "  padding-right: 1em;\n",
              "  padding-left: 1em;\n",
              "}\n",
              "\n",
              "\n",
              "/* Toggleable style: style used for estimator/Pipeline/ColumnTransformer box that is\n",
              "clickable and can be expanded/collapsed.\n",
              "- Pipeline and ColumnTransformer use this feature and define the default style\n",
              "- Estimators will overwrite some part of the style using the `sk-estimator` class\n",
              "*/\n",
              "\n",
              "/* Pipeline and ColumnTransformer style (default) */\n",
              "\n",
              "#sk-container-id-1 div.sk-toggleable {\n",
              "  /* Default theme specific background. It is overwritten whether we have a\n",
              "  specific estimator or a Pipeline/ColumnTransformer */\n",
              "  background-color: var(--sklearn-color-background);\n",
              "}\n",
              "\n",
              "/* Toggleable label */\n",
              "#sk-container-id-1 label.sk-toggleable__label {\n",
              "  cursor: pointer;\n",
              "  display: block;\n",
              "  width: 100%;\n",
              "  margin-bottom: 0;\n",
              "  padding: 0.5em;\n",
              "  box-sizing: border-box;\n",
              "  text-align: center;\n",
              "}\n",
              "\n",
              "#sk-container-id-1 label.sk-toggleable__label-arrow:before {\n",
              "  /* Arrow on the left of the label */\n",
              "  content: \"▸\";\n",
              "  float: left;\n",
              "  margin-right: 0.25em;\n",
              "  color: var(--sklearn-color-icon);\n",
              "}\n",
              "\n",
              "#sk-container-id-1 label.sk-toggleable__label-arrow:hover:before {\n",
              "  color: var(--sklearn-color-text);\n",
              "}\n",
              "\n",
              "/* Toggleable content - dropdown */\n",
              "\n",
              "#sk-container-id-1 div.sk-toggleable__content {\n",
              "  max-height: 0;\n",
              "  max-width: 0;\n",
              "  overflow: hidden;\n",
              "  text-align: left;\n",
              "  /* unfitted */\n",
              "  background-color: var(--sklearn-color-unfitted-level-0);\n",
              "}\n",
              "\n",
              "#sk-container-id-1 div.sk-toggleable__content.fitted {\n",
              "  /* fitted */\n",
              "  background-color: var(--sklearn-color-fitted-level-0);\n",
              "}\n",
              "\n",
              "#sk-container-id-1 div.sk-toggleable__content pre {\n",
              "  margin: 0.2em;\n",
              "  border-radius: 0.25em;\n",
              "  color: var(--sklearn-color-text);\n",
              "  /* unfitted */\n",
              "  background-color: var(--sklearn-color-unfitted-level-0);\n",
              "}\n",
              "\n",
              "#sk-container-id-1 div.sk-toggleable__content.fitted pre {\n",
              "  /* unfitted */\n",
              "  background-color: var(--sklearn-color-fitted-level-0);\n",
              "}\n",
              "\n",
              "#sk-container-id-1 input.sk-toggleable__control:checked~div.sk-toggleable__content {\n",
              "  /* Expand drop-down */\n",
              "  max-height: 200px;\n",
              "  max-width: 100%;\n",
              "  overflow: auto;\n",
              "}\n",
              "\n",
              "#sk-container-id-1 input.sk-toggleable__control:checked~label.sk-toggleable__label-arrow:before {\n",
              "  content: \"▾\";\n",
              "}\n",
              "\n",
              "/* Pipeline/ColumnTransformer-specific style */\n",
              "\n",
              "#sk-container-id-1 div.sk-label input.sk-toggleable__control:checked~label.sk-toggleable__label {\n",
              "  color: var(--sklearn-color-text);\n",
              "  background-color: var(--sklearn-color-unfitted-level-2);\n",
              "}\n",
              "\n",
              "#sk-container-id-1 div.sk-label.fitted input.sk-toggleable__control:checked~label.sk-toggleable__label {\n",
              "  background-color: var(--sklearn-color-fitted-level-2);\n",
              "}\n",
              "\n",
              "/* Estimator-specific style */\n",
              "\n",
              "/* Colorize estimator box */\n",
              "#sk-container-id-1 div.sk-estimator input.sk-toggleable__control:checked~label.sk-toggleable__label {\n",
              "  /* unfitted */\n",
              "  background-color: var(--sklearn-color-unfitted-level-2);\n",
              "}\n",
              "\n",
              "#sk-container-id-1 div.sk-estimator.fitted input.sk-toggleable__control:checked~label.sk-toggleable__label {\n",
              "  /* fitted */\n",
              "  background-color: var(--sklearn-color-fitted-level-2);\n",
              "}\n",
              "\n",
              "#sk-container-id-1 div.sk-label label.sk-toggleable__label,\n",
              "#sk-container-id-1 div.sk-label label {\n",
              "  /* The background is the default theme color */\n",
              "  color: var(--sklearn-color-text-on-default-background);\n",
              "}\n",
              "\n",
              "/* On hover, darken the color of the background */\n",
              "#sk-container-id-1 div.sk-label:hover label.sk-toggleable__label {\n",
              "  color: var(--sklearn-color-text);\n",
              "  background-color: var(--sklearn-color-unfitted-level-2);\n",
              "}\n",
              "\n",
              "/* Label box, darken color on hover, fitted */\n",
              "#sk-container-id-1 div.sk-label.fitted:hover label.sk-toggleable__label.fitted {\n",
              "  color: var(--sklearn-color-text);\n",
              "  background-color: var(--sklearn-color-fitted-level-2);\n",
              "}\n",
              "\n",
              "/* Estimator label */\n",
              "\n",
              "#sk-container-id-1 div.sk-label label {\n",
              "  font-family: monospace;\n",
              "  font-weight: bold;\n",
              "  display: inline-block;\n",
              "  line-height: 1.2em;\n",
              "}\n",
              "\n",
              "#sk-container-id-1 div.sk-label-container {\n",
              "  text-align: center;\n",
              "}\n",
              "\n",
              "/* Estimator-specific */\n",
              "#sk-container-id-1 div.sk-estimator {\n",
              "  font-family: monospace;\n",
              "  border: 1px dotted var(--sklearn-color-border-box);\n",
              "  border-radius: 0.25em;\n",
              "  box-sizing: border-box;\n",
              "  margin-bottom: 0.5em;\n",
              "  /* unfitted */\n",
              "  background-color: var(--sklearn-color-unfitted-level-0);\n",
              "}\n",
              "\n",
              "#sk-container-id-1 div.sk-estimator.fitted {\n",
              "  /* fitted */\n",
              "  background-color: var(--sklearn-color-fitted-level-0);\n",
              "}\n",
              "\n",
              "/* on hover */\n",
              "#sk-container-id-1 div.sk-estimator:hover {\n",
              "  /* unfitted */\n",
              "  background-color: var(--sklearn-color-unfitted-level-2);\n",
              "}\n",
              "\n",
              "#sk-container-id-1 div.sk-estimator.fitted:hover {\n",
              "  /* fitted */\n",
              "  background-color: var(--sklearn-color-fitted-level-2);\n",
              "}\n",
              "\n",
              "/* Specification for estimator info (e.g. \"i\" and \"?\") */\n",
              "\n",
              "/* Common style for \"i\" and \"?\" */\n",
              "\n",
              ".sk-estimator-doc-link,\n",
              "a:link.sk-estimator-doc-link,\n",
              "a:visited.sk-estimator-doc-link {\n",
              "  float: right;\n",
              "  font-size: smaller;\n",
              "  line-height: 1em;\n",
              "  font-family: monospace;\n",
              "  background-color: var(--sklearn-color-background);\n",
              "  border-radius: 1em;\n",
              "  height: 1em;\n",
              "  width: 1em;\n",
              "  text-decoration: none !important;\n",
              "  margin-left: 1ex;\n",
              "  /* unfitted */\n",
              "  border: var(--sklearn-color-unfitted-level-1) 1pt solid;\n",
              "  color: var(--sklearn-color-unfitted-level-1);\n",
              "}\n",
              "\n",
              ".sk-estimator-doc-link.fitted,\n",
              "a:link.sk-estimator-doc-link.fitted,\n",
              "a:visited.sk-estimator-doc-link.fitted {\n",
              "  /* fitted */\n",
              "  border: var(--sklearn-color-fitted-level-1) 1pt solid;\n",
              "  color: var(--sklearn-color-fitted-level-1);\n",
              "}\n",
              "\n",
              "/* On hover */\n",
              "div.sk-estimator:hover .sk-estimator-doc-link:hover,\n",
              ".sk-estimator-doc-link:hover,\n",
              "div.sk-label-container:hover .sk-estimator-doc-link:hover,\n",
              ".sk-estimator-doc-link:hover {\n",
              "  /* unfitted */\n",
              "  background-color: var(--sklearn-color-unfitted-level-3);\n",
              "  color: var(--sklearn-color-background);\n",
              "  text-decoration: none;\n",
              "}\n",
              "\n",
              "div.sk-estimator.fitted:hover .sk-estimator-doc-link.fitted:hover,\n",
              ".sk-estimator-doc-link.fitted:hover,\n",
              "div.sk-label-container:hover .sk-estimator-doc-link.fitted:hover,\n",
              ".sk-estimator-doc-link.fitted:hover {\n",
              "  /* fitted */\n",
              "  background-color: var(--sklearn-color-fitted-level-3);\n",
              "  color: var(--sklearn-color-background);\n",
              "  text-decoration: none;\n",
              "}\n",
              "\n",
              "/* Span, style for the box shown on hovering the info icon */\n",
              ".sk-estimator-doc-link span {\n",
              "  display: none;\n",
              "  z-index: 9999;\n",
              "  position: relative;\n",
              "  font-weight: normal;\n",
              "  right: .2ex;\n",
              "  padding: .5ex;\n",
              "  margin: .5ex;\n",
              "  width: min-content;\n",
              "  min-width: 20ex;\n",
              "  max-width: 50ex;\n",
              "  color: var(--sklearn-color-text);\n",
              "  box-shadow: 2pt 2pt 4pt #999;\n",
              "  /* unfitted */\n",
              "  background: var(--sklearn-color-unfitted-level-0);\n",
              "  border: .5pt solid var(--sklearn-color-unfitted-level-3);\n",
              "}\n",
              "\n",
              ".sk-estimator-doc-link.fitted span {\n",
              "  /* fitted */\n",
              "  background: var(--sklearn-color-fitted-level-0);\n",
              "  border: var(--sklearn-color-fitted-level-3);\n",
              "}\n",
              "\n",
              ".sk-estimator-doc-link:hover span {\n",
              "  display: block;\n",
              "}\n",
              "\n",
              "/* \"?\"-specific style due to the `<a>` HTML tag */\n",
              "\n",
              "#sk-container-id-1 a.estimator_doc_link {\n",
              "  float: right;\n",
              "  font-size: 1rem;\n",
              "  line-height: 1em;\n",
              "  font-family: monospace;\n",
              "  background-color: var(--sklearn-color-background);\n",
              "  border-radius: 1rem;\n",
              "  height: 1rem;\n",
              "  width: 1rem;\n",
              "  text-decoration: none;\n",
              "  /* unfitted */\n",
              "  color: var(--sklearn-color-unfitted-level-1);\n",
              "  border: var(--sklearn-color-unfitted-level-1) 1pt solid;\n",
              "}\n",
              "\n",
              "#sk-container-id-1 a.estimator_doc_link.fitted {\n",
              "  /* fitted */\n",
              "  border: var(--sklearn-color-fitted-level-1) 1pt solid;\n",
              "  color: var(--sklearn-color-fitted-level-1);\n",
              "}\n",
              "\n",
              "/* On hover */\n",
              "#sk-container-id-1 a.estimator_doc_link:hover {\n",
              "  /* unfitted */\n",
              "  background-color: var(--sklearn-color-unfitted-level-3);\n",
              "  color: var(--sklearn-color-background);\n",
              "  text-decoration: none;\n",
              "}\n",
              "\n",
              "#sk-container-id-1 a.estimator_doc_link.fitted:hover {\n",
              "  /* fitted */\n",
              "  background-color: var(--sklearn-color-fitted-level-3);\n",
              "}\n",
              "</style><div id=\"sk-container-id-1\" class=\"sk-top-container\"><div class=\"sk-text-repr-fallback\"><pre>RandomForestClassifier(random_state=42)</pre><b>In a Jupyter environment, please rerun this cell to show the HTML representation or trust the notebook. <br />On GitHub, the HTML representation is unable to render, please try loading this page with nbviewer.org.</b></div><div class=\"sk-container\" hidden><div class=\"sk-item\"><div class=\"sk-estimator fitted sk-toggleable\"><input class=\"sk-toggleable__control sk-hidden--visually\" id=\"sk-estimator-id-1\" type=\"checkbox\" checked><label for=\"sk-estimator-id-1\" class=\"sk-toggleable__label fitted sk-toggleable__label-arrow fitted\">&nbsp;&nbsp;RandomForestClassifier<a class=\"sk-estimator-doc-link fitted\" rel=\"noreferrer\" target=\"_blank\" href=\"https://scikit-learn.org/1.5/modules/generated/sklearn.ensemble.RandomForestClassifier.html\">?<span>Documentation for RandomForestClassifier</span></a><span class=\"sk-estimator-doc-link fitted\">i<span>Fitted</span></span></label><div class=\"sk-toggleable__content fitted\"><pre>RandomForestClassifier(random_state=42)</pre></div> </div></div></div></div>"
            ]
          },
          "metadata": {},
          "execution_count": 7
        }
      ],
      "source": [
        "# Membangun model Random Forest Classifier\n",
        "model = RandomForestClassifier(n_estimators=100, random_state=42)\n",
        "\n",
        "# Melatih model\n",
        "model.fit(X_train_scaled, y_train)\n"
      ]
    },
    {
      "cell_type": "markdown",
      "source": [
        "Kode ini digunakan untuk melakukan prediksi dan mengevaluasi performa model.`model.predict(X_test_scaled)`** digunakan untuk menghasilkan prediksi dari data uji yang telah dinormalisasi. Akurasi model dihitung menggunakan`accuracy_score`** dengan membandingkan prediksi (**`y_pred`**) dengan label yang sebenarnya (**`y_test`**), dan hasilnya ditampilkan dalam bentuk persentase. Selanjutnya,`confusion_matrix`** digunakan untuk menampilkan matriks kebingungan, yang menggambarkan jumlah prediksi yang benar dan salah untuk setiap kelas. Terakhir,`classification_report`** digunakan untuk menghasilkan laporan klasifikasi yang mencakup metrik seperti precision, recall, dan F1-score untuk mengevaluasi performa model secara lebih mendalam.\n"
      ],
      "metadata": {
        "id": "e-gEABLsxcdJ"
      }
    },
    {
      "cell_type": "code",
      "execution_count": null,
      "metadata": {
        "colab": {
          "base_uri": "https://localhost:8080/"
        },
        "id": "deJnCw2kPwyQ",
        "outputId": "aabd4d98-ee43-49f9-8f6c-857ce2b70a6e"
      },
      "outputs": [
        {
          "output_type": "stream",
          "name": "stdout",
          "text": [
            "Akurasi: 100.00%\n",
            "Confusion Matrix:\n",
            "[[31  0  0]\n",
            " [ 0 13  0]\n",
            " [ 0  0 23]]\n",
            "Classification Report:\n",
            "              precision    recall  f1-score   support\n",
            "\n",
            "      Adelie       1.00      1.00      1.00        31\n",
            "   Chinstrap       1.00      1.00      1.00        13\n",
            "      Gentoo       1.00      1.00      1.00        23\n",
            "\n",
            "    accuracy                           1.00        67\n",
            "   macro avg       1.00      1.00      1.00        67\n",
            "weighted avg       1.00      1.00      1.00        67\n",
            "\n"
          ]
        }
      ],
      "source": [
        "# Prediksi dengan data test\n",
        "y_pred = model.predict(X_test_scaled)\n",
        "\n",
        "# Menghitung akurasi\n",
        "accuracy = accuracy_score(y_test, y_pred)\n",
        "print(f\"Akurasi: {accuracy * 100:.2f}%\")\n",
        "\n",
        "# Menampilkan confusion matrix\n",
        "conf_matrix = confusion_matrix(y_test, y_pred)\n",
        "print(\"Confusion Matrix:\")\n",
        "print(conf_matrix)\n",
        "\n",
        "# Menampilkan classification report\n",
        "class_report = classification_report(y_test, y_pred)\n",
        "print(\"Classification Report:\")\n",
        "print(class_report)\n"
      ]
    },
    {
      "cell_type": "markdown",
      "source": [
        "Kode ini digunakan untuk memvisualisasikan Confusion Matrix dalam bentuk heatmap. `plt.figure(figsize=(8,6))` mengatur ukuran gambar yang akan ditampilkan. `sns.heatmap()` digunakan untuk membuat heatmap dengan parameter `annot=True` agar nilai dalam matriks ditampilkan, `fmt='d'` untuk format angka desimal, dan `cmap='Blues'` untuk menentukan warna. Label pada sumbu x dan y diatur sesuai dengan kelas model menggunakan `xticklabels=model.classes_` dan `yticklabels=model.classes_`. Judul dan label sumbu ditambahkan dengan `plt.title()`, `plt.xlabel()`, dan `plt.ylabel()`. Terakhir, `plt.show()` menampilkan visualisasi confusion matrix.\n"
      ],
      "metadata": {
        "id": "6Jf4yxK5xkgV"
      }
    },
    {
      "cell_type": "code",
      "execution_count": null,
      "metadata": {
        "colab": {
          "base_uri": "https://localhost:8080/",
          "height": 564
        },
        "id": "2ESRVmG0P1ne",
        "outputId": "4ef74b62-7084-4787-8bdb-4afb8af894db"
      },
      "outputs": [
        {
          "output_type": "display_data",
          "data": {
            "text/plain": [
              "<Figure size 800x600 with 2 Axes>"
            ],
            "image/png": "[encoded data removed]"
          },
          "metadata": {}
        }
      ],
      "source": [
        "# Visualisasi Confusion Matrix\n",
        "plt.figure(figsize=(8,6))\n",
        "sns.heatmap(conf_matrix, annot=True, fmt='d', cmap='Blues', xticklabels=model.classes_, yticklabels=model.classes_)\n",
        "plt.title(\"Confusion Matrix\")\n",
        "plt.xlabel('Predicted')\n",
        "plt.ylabel('True')\n",
        "plt.show()\n"
      ]
    },
    {
      "cell_type": "markdown",
      "source": [
        "Kode ini mengimpor berbagai library yang diperlukan untuk analisis data dan machine learning. `files.upload()` digunakan untuk mengunggah file dataset dari Google Colab. Setelah file diunggah, `pd.read_csv()` digunakan untuk memuat dataset ke dalam DataFrame `data`. Fungsi `print(data.head())` menampilkan lima baris pertama dari dataset untuk memeriksa data yang telah dimuat. Selain itu, library lain yang diimpor seperti `pandas` untuk manipulasi data, `numpy` untuk operasi matematika, `RandomForestClassifier` untuk model klasifikasi, dan `LabelEncoder` untuk mengubah variabel kategorikal menjadi numerik.\n"
      ],
      "metadata": {
        "id": "Xz1hT4Kfxx5y"
      }
    },
    {
      "cell_type": "code",
      "execution_count": null,
      "metadata": {
        "colab": {
          "base_uri": "https://localhost:8080/",
          "height": 316
        },
        "id": "8e8aeaa4",
        "outputId": "6d1d3d4a-39cc-499f-f5a0-767cf968b8c4"
      },
      "outputs": [
        {
          "output_type": "display_data",
          "data": {
            "text/plain": [
              "<IPython.core.display.HTML object>"
            ],
            "text/html": [
              "\n",
              "     <input type=\"file\" id=\"files-4c26d0b0-f734-4cde-9131-6802c0ad3bd6\" name=\"files[]\" multiple disabled\n",
              "        style=\"border:none\" />\n",
              "     <output id=\"result-4c26d0b0-f734-4cde-9131-6802c0ad3bd6\">\n",
              "      Upload widget is only available when the cell has been executed in the\n",
              "      current browser session. Please rerun this cell to enable.\n",
              "      </output>\n",
              "      <script>// Copyright 2017 Google LLC\n",
              "//\n",
              "// Licensed under the Apache License, Version 2.0 (the \"License\");\n",
              "// you may not use this file except in compliance with the License.\n",
              "// You may obtain a copy of the License at\n",
              "//\n",
              "//      http://www.apache.org/licenses/LICENSE-2.0\n",
              "//\n",
              "// Unless required by applicable law or agreed to in writing, software\n",
              "// distributed under the License is distributed on an \"AS IS\" BASIS,\n",
              "// WITHOUT WARRANTIES OR CONDITIONS OF ANY KIND, either express or implied.\n",
              "// See the License for the specific language governing permissions and\n",
              "// limitations under the License.\n",
              "\n",
              "/**\n",
              " * @fileoverview Helpers for google.colab Python module.\n",
              " */\n",
              "(function(scope) {\n",
              "function span(text, styleAttributes = {}) {\n",
              "  const element = document.createElement('span');\n",
              "  element.textContent = text;\n",
              "  for (const key of Object.keys(styleAttributes)) {\n",
              "    element.style[key] = styleAttributes[key];\n",
              "  }\n",
              "  return element;\n",
              "}\n",
              "\n",
              "// Max number of bytes which will be uploaded at a time.\n",
              "const MAX_PAYLOAD_SIZE = 100 * 1024;\n",
              "\n",
              "function _uploadFiles(inputId, outputId) {\n",
              "  const steps = uploadFilesStep(inputId, outputId);\n",
              "  const outputElement = document.getElementById(outputId);\n",
              "  // Cache steps on the outputElement to make it available for the next call\n",
              "  // to uploadFilesContinue from Python.\n",
              "  outputElement.steps = steps;\n",
              "\n",
              "  return _uploadFilesContinue(outputId);\n",
              "}\n",
              "\n",
              "// This is roughly an async generator (not supported in the browser yet),\n",
              "// where there are multiple asynchronous steps and the Python side is going\n",
              "// to poll for completion of each step.\n",
              "// This uses a Promise to block the python side on completion of each step,\n",
              "// then passes the result of the previous step as the input to the next step.\n",
              "function _uploadFilesContinue(outputId) {\n",
              "  const outputElement = document.getElementById(outputId);\n",
              "  const steps = outputElement.steps;\n",
              "\n",
              "  const next = steps.next(outputElement.lastPromiseValue);\n",
              "  return Promise.resolve(next.value.promise).then((value) => {\n",
              "    // Cache the last promise value to make it available to the next\n",
              "    // step of the generator.\n",
              "    outputElement.lastPromiseValue = value;\n",
              "    return next.value.response;\n",
              "  });\n",
              "}\n",
              "\n",
              "/**\n",
              " * Generator function which is called between each async step of the upload\n",
              " * process.\n",
              " * @param {string} inputId Element ID of the input file picker element.\n",
              " * @param {string} outputId Element ID of the output display.\n",
              " * @return {!Iterable<!Object>} Iterable of next steps.\n",
              " */\n",
              "function* uploadFilesStep(inputId, outputId) {\n",
              "  const inputElement = document.getElementById(inputId);\n",
              "  inputElement.disabled = false;\n",
              "\n",
              "  const outputElement = document.getElementById(outputId);\n",
              "  outputElement.innerHTML = '';\n",
              "\n",
              "  const pickedPromise = new Promise((resolve) => {\n",
              "    inputElement.addEventListener('change', (e) => {\n",
              "      resolve(e.target.files);\n",
              "    });\n",
              "  });\n",
              "\n",
              "  const cancel = document.createElement('button');\n",
              "  inputElement.parentElement.appendChild(cancel);\n",
              "  cancel.textContent = 'Cancel upload';\n",
              "  const cancelPromise = new Promise((resolve) => {\n",
              "    cancel.onclick = () => {\n",
              "      resolve(null);\n",
              "    };\n",
              "  });\n",
              "\n",
              "  // Wait for the user to pick the files.\n",
              "  const files = yield {\n",
              "    promise: Promise.race([pickedPromise, cancelPromise]),\n",
              "    response: {\n",
              "      action: 'starting',\n",
              "    }\n",
              "  };\n",
              "\n",
              "  cancel.remove();\n",
              "\n",
              "  // Disable the input element since further picks are not allowed.\n",
              "  inputElement.disabled = true;\n",
              "\n",
              "  if (!files) {\n",
              "    return {\n",
              "      response: {\n",
              "        action: 'complete',\n",
              "      }\n",
              "    };\n",
              "  }\n",
              "\n",
              "  for (const file of files) {\n",
              "    const li = document.createElement('li');\n",
              "    li.append(span(file.name, {fontWeight: 'bold'}));\n",
              "    li.append(span(\n",
              "        `(${file.type || 'n/a'}) - ${file.size} bytes, ` +\n",
              "        `last modified: ${\n",
              "            file.lastModifiedDate ? file.lastModifiedDate.toLocaleDateString() :\n",
              "                                    'n/a'} - `));\n",
              "    const percent = span('0% done');\n",
              "    li.appendChild(percent);\n",
              "\n",
              "    outputElement.appendChild(li);\n",
              "\n",
              "    const fileDataPromise = new Promise((resolve) => {\n",
              "      const reader = new FileReader();\n",
              "      reader.onload = (e) => {\n",
              "        resolve(e.target.result);\n",
              "      };\n",
              "      reader.readAsArrayBuffer(file);\n",
              "    });\n",
              "    // Wait for the data to be ready.\n",
              "    let fileData = yield {\n",
              "      promise: fileDataPromise,\n",
              "      response: {\n",
              "        action: 'continue',\n",
              "      }\n",
              "    };\n",
              "\n",
              "    // Use a chunked sending to avoid message size limits. See b/62115660.\n",
              "    let position = 0;\n",
              "    do {\n",
              "      const length = Math.min(fileData.byteLength - position, MAX_PAYLOAD_SIZE);\n",
              "      const chunk = new Uint8Array(fileData, position, length);\n",
              "      position += length;\n",
              "\n",
              "      const base64 = btoa(String.fromCharCode.apply(null, chunk));\n",
              "      yield {\n",
              "        response: {\n",
              "          action: 'append',\n",
              "          file: file.name,\n",
              "          data: base64,\n",
              "        },\n",
              "      };\n",
              "\n",
              "      let percentDone = fileData.byteLength === 0 ?\n",
              "          100 :\n",
              "          Math.round((position / fileData.byteLength) * 100);\n",
              "      percent.textContent = `${percentDone}% done`;\n",
              "\n",
              "    } while (position < fileData.byteLength);\n",
              "  }\n",
              "\n",
              "  // All done.\n",
              "  yield {\n",
              "    response: {\n",
              "      action: 'complete',\n",
              "    }\n",
              "  };\n",
              "}\n",
              "\n",
              "scope.google = scope.google || {};\n",
              "scope.google.colab = scope.google.colab || {};\n",
              "scope.google.colab._files = {\n",
              "  _uploadFiles,\n",
              "  _uploadFilesContinue,\n",
              "};\n",
              "})(self);\n",
              "</script> "
            ]
          },
          "metadata": {}
        },
        {
          "output_type": "stream",
          "name": "stdout",
          "text": [
            "Saving penguins_size.csv to penguins_size (1).csv\n",
            "Dataset Loaded:\n",
            "  species     island  culmen_length_mm  culmen_depth_mm  flipper_length_mm  \\\n",
            "0  Adelie  Torgersen              39.1             18.7              181.0   \n",
            "1  Adelie  Torgersen              39.5             17.4              186.0   \n",
            "2  Adelie  Torgersen              40.3             18.0              195.0   \n",
            "3  Adelie  Torgersen               NaN              NaN                NaN   \n",
            "4  Adelie  Torgersen              36.7             19.3              193.0   \n",
            "\n",
            "   body_mass_g     sex  \n",
            "0       3750.0    MALE  \n",
            "1       3800.0  FEMALE  \n",
            "2       3250.0  FEMALE  \n",
            "3          NaN     NaN  \n",
            "4       3450.0  FEMALE  \n"
          ]
        }
      ],
      "source": [
        "\n",
        "# Importing libraries\n",
        "from google.colab import files\n",
        "import pandas as pd\n",
        "import numpy as np\n",
        "from sklearn.model_selection import train_test_split\n",
        "from sklearn.ensemble import RandomForestClassifier\n",
        "from sklearn.metrics import accuracy_score, classification_report, confusion_matrix\n",
        "from sklearn.preprocessing import LabelEncoder\n",
        "\n",
        "# Upload file dataset\n",
        "uploaded = files.upload()\n",
        "\n",
        "# Load dataset\n",
        "data = pd.read_csv(list(uploaded.keys())[0])  # Use the uploaded file\n",
        "print(\"Dataset Loaded:\")\n",
        "print(data.head())\n"
      ]
    },
    {
      "cell_type": "markdown",
      "source": [
        "Kode ini melakukan praproses data untuk mempersiapkan dataset agar siap digunakan dalam model machine learning. `data.dropna()` menghapus baris dengan nilai yang hilang, memastikan dataset bersih dari missing values. Kolom-kolom kategorikal seperti `island` dan `sex` kemudian dienkripsi menggunakan `LabelEncoder()`, yang mengubah nilai kategorikal menjadi angka untuk memudahkan pemrosesan model. Kolom target `species` juga dienkripsi jika diperlukan. Setelah itu, dataset dibagi menjadi fitur (`X`) dan target (`y`), dengan `X` berisi semua kolom kecuali target dan `y` berisi kolom target `species`. Terakhir, `train_test_split()` digunakan untuk membagi dataset menjadi data pelatihan dan pengujian, dengan proporsi 80% untuk pelatihan dan 20% untuk pengujian.\n"
      ],
      "metadata": {
        "id": "ijRNpE2ix6Kt"
      }
    },
    {
      "cell_type": "code",
      "execution_count": null,
      "metadata": {
        "id": "80668115",
        "colab": {
          "base_uri": "https://localhost:8080/"
        },
        "outputId": "7d3c8a2a-470f-4bc5-cb11-ba76a734740b"
      },
      "outputs": [
        {
          "output_type": "stream",
          "name": "stderr",
          "text": [
            "<ipython-input-11-9f9411ad2a61>:8: SettingWithCopyWarning: \n",
            "A value is trying to be set on a copy of a slice from a DataFrame.\n",
            "Try using .loc[row_indexer,col_indexer] = value instead\n",
            "\n",
            "See the caveats in the documentation: https://pandas.pydata.org/pandas-docs/stable/user_guide/indexing.html#returning-a-view-versus-a-copy\n",
            "  data[col] = encoder.fit_transform(data[col])\n",
            "<ipython-input-11-9f9411ad2a61>:8: SettingWithCopyWarning: \n",
            "A value is trying to be set on a copy of a slice from a DataFrame.\n",
            "Try using .loc[row_indexer,col_indexer] = value instead\n",
            "\n",
            "See the caveats in the documentation: https://pandas.pydata.org/pandas-docs/stable/user_guide/indexing.html#returning-a-view-versus-a-copy\n",
            "  data[col] = encoder.fit_transform(data[col])\n",
            "<ipython-input-11-9f9411ad2a61>:11: SettingWithCopyWarning: \n",
            "A value is trying to be set on a copy of a slice from a DataFrame.\n",
            "Try using .loc[row_indexer,col_indexer] = value instead\n",
            "\n",
            "See the caveats in the documentation: https://pandas.pydata.org/pandas-docs/stable/user_guide/indexing.html#returning-a-view-versus-a-copy\n",
            "  data['species'] = encoder.fit_transform(data['species'])\n"
          ]
        }
      ],
      "source": [
        "# Praproses dataset (menangani nilai yang hilang, mengenkripsi variabel kategorikal, dll.)\n",
        "data = data.dropna()  # Hapus nilai yang hilang\n",
        "categorical_columns = ['island', 'sex']  # Ganti dengan kolom kategorikal yang sesuai\n",
        "\n",
        "# Mengenkripsi variabel kategorikal\n",
        "encoder = LabelEncoder()\n",
        "for col in categorical_columns:\n",
        "    data[col] = encoder.fit_transform(data[col])\n",
        "\n",
        "# Mengenkripsi variabel target jika diperlukan\n",
        "data['species'] = encoder.fit_transform(data['species'])\n",
        "\n",
        "# Membagi dataset\n",
        "X = data.drop('species', axis=1)  # Ganti 'species' dengan nama kolom target yang sesuai\n",
        "y = data['species']  # Variabel target\n",
        "\n",
        "X_train, X_test, y_train, y_test = train_test_split(X, y, test_size=0.2, random_state=42)\n"
      ]
    },
    {
      "cell_type": "markdown",
      "source": [
        "Kode ini digunakan untuk melatih model **Random Forest Classifier** dan mengevaluasi performa model. Model dilatih menggunakan **`model.fit()`** dengan data pelatihan **`X_train`** dan target **`y_train`**. Kemudian, akurasi model dihitung menggunakan **`accuracy_score`** pada data pelatihan dan pengujian untuk menilai seberapa baik model bekerja pada kedua dataset. Hasil akurasi untuk pelatihan dan pengujian ditampilkan. Selanjutnya, kode memeriksa kemungkinan **overfitting** atau **underfitting**. Jika akurasi pelatihan lebih tinggi 10% dari akurasi pengujian, maka model dianggap overfit, sedangkan jika sebaliknya, model dianggap underfit. Jika tidak ada perbedaan signifikan antara keduanya, maka model dianggap memiliki generalisasi yang baik.\n"
      ],
      "metadata": {
        "id": "5X7-PUCtx9YD"
      }
    },
    {
      "cell_type": "code",
      "execution_count": null,
      "metadata": {
        "colab": {
          "base_uri": "https://localhost:8080/"
        },
        "id": "1a86fd0f",
        "outputId": "3a05d693-b6ae-4d0e-86fe-b46f0083cafc"
      },
      "outputs": [
        {
          "output_type": "stream",
          "name": "stdout",
          "text": [
            "Akurasi Pelatihan: 1.0\n",
            "Akurasi Pengujian: 1.0\n",
            "Model memiliki generalisasi yang baik.\n"
          ]
        }
      ],
      "source": [
        "# Melatih model Random Forest\n",
        "model = RandomForestClassifier(random_state=42)\n",
        "model.fit(X_train, y_train)\n",
        "\n",
        "# Mengevaluasi model pada dataset pelatihan dan pengujian\n",
        "train_accuracy = accuracy_score(y_train, model.predict(X_train))\n",
        "test_accuracy = accuracy_score(y_test, model.predict(X_test))\n",
        "\n",
        "print(f\"Akurasi Pelatihan: {train_accuracy}\")\n",
        "print(f\"Akurasi Pengujian: {test_accuracy}\")\n",
        "\n",
        "# Memeriksa kemungkinan overfitting/underfitting\n",
        "if train_accuracy > test_accuracy + 0.1:\n",
        "    print(\"Model mungkin mengalami overfitting.\")\n",
        "elif test_accuracy > train_accuracy + 0.1:\n",
        "    print(\"Model mungkin mengalami underfitting.\")\n",
        "else:\n",
        "    print(\"Model memiliki generalisasi yang baik.\")\n"
      ]
    },
    {
      "cell_type": "markdown",
      "source": [
        "Kode ini digunakan untuk mengevaluasi model menggunakan **matriks kebingungan** dan **laporan klasifikasi**. **`model.predict(X_test)`** digunakan untuk menghasilkan prediksi pada data uji **`X_test`**. Hasil prediksi ini kemudian dibandingkan dengan nilai sebenarnya **`y_test`**. **`confusion_matrix()`** menampilkan matriks kebingungan, yang menunjukkan jumlah prediksi yang benar dan salah untuk setiap kelas. Selanjutnya, **`classification_report()`** menghasilkan laporan klasifikasi yang mencakup metrik seperti precision, recall, dan F1-score, memberikan gambaran lebih mendalam tentang performa model dalam mengklasifikasikan data.\n"
      ],
      "metadata": {
        "id": "poZsIfVQyRpF"
      }
    },
    {
      "cell_type": "code",
      "execution_count": null,
      "metadata": {
        "colab": {
          "base_uri": "https://localhost:8080/"
        },
        "id": "88a85a5a",
        "outputId": "91666a1b-19e7-4985-bde7-851ab02740bc"
      },
      "outputs": [
        {
          "output_type": "stream",
          "name": "stdout",
          "text": [
            "Matriks Kebingungan:\n",
            "[[31  0  0]\n",
            " [ 0 13  0]\n",
            " [ 0  0 23]]\n",
            "\n",
            "Laporan Klasifikasi:\n",
            "              precision    recall  f1-score   support\n",
            "\n",
            "           0       1.00      1.00      1.00        31\n",
            "           1       1.00      1.00      1.00        13\n",
            "           2       1.00      1.00      1.00        23\n",
            "\n",
            "    accuracy                           1.00        67\n",
            "   macro avg       1.00      1.00      1.00        67\n",
            "weighted avg       1.00      1.00      1.00        67\n",
            "\n"
          ]
        }
      ],
      "source": [
        "# Mengevaluasi menggunakan matriks kebingungan dan laporan klasifikasi\n",
        "y_pred = model.predict(X_test)\n",
        "\n",
        "# Menampilkan Matriks Kebingungan\n",
        "print(\"Matriks Kebingungan:\")\n",
        "print(confusion_matrix(y_test, y_pred))\n",
        "\n",
        "# Menampilkan Laporan Klasifikasi\n",
        "print(\"\\nLaporan Klasifikasi:\")\n",
        "print(classification_report(y_test, y_pred))\n"
      ]
    },
    {
      "cell_type": "code",
      "source": [
        "import pickle\n",
        "\n",
        "# Simpan model ke file\n",
        "with open('penguin_model.pkl', 'wb') as f:\n",
        "    pickle.dump(model, f)\n"
      ],
      "metadata": {
        "id": "rlXBmB5HQzEU"
      },
      "execution_count": null,
      "outputs": []
    },
    {
      "cell_type": "code",
      "source": [
        "import pickle\n",
        "\n",
        "# Simpan model ke file model.pkl\n",
        "with open('model.pkl', 'wb') as f:\n",
        "    pickle.dump(model, f)\n",
        "\n",
        "print(\"Model telah disimpan sebagai 'model.pkl'\")\n"
      ],
      "metadata": {
        "colab": {
          "base_uri": "https://localhost:8080/"
        },
        "id": "PH7IfehzQzs3",
        "outputId": "cffee366-97ef-41eb-897a-68873df26043"
      },
      "execution_count": null,
      "outputs": [
        {
          "output_type": "stream",
          "name": "stdout",
          "text": [
            "Model telah disimpan sebagai 'model.pkl'\n"
          ]
        }
      ]
    },
    {
      "cell_type": "code",
      "source": [
        "from flask import Flask, request, jsonify\n",
        "import pickle\n",
        "import numpy as np\n",
        "\n",
        "# Muat model yang telah dilatih\n",
        "with open('penguin_model.pkl', 'rb') as f:\n",
        "    model = pickle.load(f)\n",
        "\n",
        "app = Flask(__name__)\n",
        "\n",
        "@app.route('/predict', methods=['POST'])\n",
        "def predict():\n",
        "    try:\n",
        "        data = request.get_json()  # Ambil data JSON dari request\n",
        "        features = data['features']  # Ambil fitur input\n",
        "\n",
        "        # Lakukan prediksi\n",
        "        prediction = model.predict([features])[0]\n",
        "\n",
        "        return jsonify({'prediction': prediction})  # Kirim hasil prediksi\n",
        "    except Exception as e:\n",
        "        return jsonify({'error': str(e)}), 400\n",
        "\n",
        "if __name__ == '__main__':\n",
        "    app.run(port=8000, debug=True)\n"
      ],
      "metadata": {
        "colab": {
          "base_uri": "https://localhost:8080/"
        },
        "id": "xbOz1Htjd5cq",
        "outputId": "6c018e5e-ffba-4082-9ab1-efa1e53f5401"
      },
      "execution_count": null,
      "outputs": [
        {
          "output_type": "stream",
          "name": "stdout",
          "text": [
            " * Serving Flask app '__main__'\n",
            " * Debug mode: on\n"
          ]
        },
        {
          "output_type": "stream",
          "name": "stderr",
          "text": [
            "INFO:werkzeug:\u001b[31m\u001b[1mWARNING: This is a development server. Do not use it in a production deployment. Use a production WSGI server instead.\u001b[0m\n",
            " * Running on http://127.0.0.1:8000\n",
            "INFO:werkzeug:\u001b[33mPress CTRL+C to quit\u001b[0m\n",
            "INFO:werkzeug: * Restarting with stat\n"
          ]
        }
      ]
    },
    {
      "cell_type": "code",
      "source": [
        "from flask import Flask, request, jsonify\n",
        "import pickle\n",
        "import numpy as np\n",
        "\n",
        "# Muat model yang telah dilatih\n",
        "with open('penguin_model.pkl', 'rb') as f:\n",
        "    model = pickle.load(f)\n",
        "\n",
        "app = Flask(__name__)\n",
        "\n",
        "@app.route('/predict', methods=['POST'])\n",
        "def predict():\n",
        "    \"\"\"\n",
        "    Endpoint untuk prediksi spesies penguin.\n",
        "    Menerima data JSON dengan format: {'features': [culmen_length_mm, culmen_depth_mm, flipper_length_mm, body_mass_g, sex]}\n",
        "    Mengembalikan prediksi spesies dalam bentuk JSON: {'prediction': species}\n",
        "    \"\"\"\n",
        "    try:\n",
        "        data = request.get_json()\n",
        "        print(f\"Received data: {data}\")  # Menampilkan data yang diterima\n",
        "        if not data or 'features' not in data:\n",
        "            return jsonify({'error': 'Bad Request: Missing features data'}), 400\n",
        "\n",
        "        features = data['features']\n",
        "        print(f\"Features: {features}\")  # Menampilkan fitur\n",
        "\n",
        "        features = np.array(features).reshape(1, -1)\n",
        "        prediction = model.predict(features)[0]\n",
        "\n",
        "        return jsonify({'prediction': prediction})\n",
        "    except Exception as e:\n",
        "        print(f\"Error: {e}\")\n",
        "        return jsonify({'error': str(e)}), 400\n",
        "\n",
        "\n",
        "if __name__ == '__main__':\n",
        "    app.run(port=8000, debug=True)"
      ],
      "metadata": {
        "colab": {
          "base_uri": "https://localhost:8080/"
        },
        "id": "QNMr_tpY7Gnu",
        "outputId": "9eb01068-da5c-4e8f-f8f6-2b80e51f7ca8"
      },
      "execution_count": null,
      "outputs": [
        {
          "output_type": "stream",
          "name": "stdout",
          "text": [
            " * Serving Flask app '__main__'\n",
            " * Debug mode: on\n"
          ]
        },
        {
          "output_type": "stream",
          "name": "stderr",
          "text": [
            "INFO:werkzeug:\u001b[31m\u001b[1mWARNING: This is a development server. Do not use it in a production deployment. Use a production WSGI server instead.\u001b[0m\n",
            " * Running on http://127.0.0.1:8000\n",
            "INFO:werkzeug:\u001b[33mPress CTRL+C to quit\u001b[0m\n",
            "INFO:werkzeug: * Restarting with stat\n",
            "WARNING:pyngrok.process.ngrok:t=2024-12-05T22:58:18+0000 lvl=warn msg=\"failed to open private leg\" id=781f7ebe1c24 privaddr=localhost:5000 err=\"dial tcp 127.0.0.1:5000: connect: connection refused\"\n",
            "WARNING:pyngrok.process.ngrok:t=2024-12-05T23:01:10+0000 lvl=warn msg=\"failed to open private leg\" id=5592acc21fe7 privaddr=localhost:5000 err=\"dial tcp 127.0.0.1:5000: connect: connection refused\"\n",
            "WARNING:pyngrok.process.ngrok:t=2024-12-05T23:01:30+0000 lvl=warn msg=\"failed to open private leg\" id=f3d729dae6e3 privaddr=localhost:5000 err=\"dial tcp 127.0.0.1:5000: connect: connection refused\"\n",
            "WARNING:pyngrok.process.ngrok:t=2024-12-05T23:03:32+0000 lvl=warn msg=\"failed to open private leg\" id=a385a353830d privaddr=localhost:5000 err=\"dial tcp 127.0.0.1:5000: connect: connection refused\"\n",
            "WARNING:pyngrok.process.ngrok:t=2024-12-05T23:04:16+0000 lvl=warn msg=\"failed to open private leg\" id=525c75669f4b privaddr=localhost:5000 err=\"dial tcp 127.0.0.1:5000: connect: connection refused\"\n",
            "WARNING:pyngrok.process.ngrok:t=2024-12-05T23:05:42+0000 lvl=warn msg=\"failed to open private leg\" id=5803377a6a59 privaddr=localhost:5000 err=\"dial tcp 127.0.0.1:5000: connect: connection refused\"\n"
          ]
        }
      ]
    },
    {
      "cell_type": "code",
      "source": [
        "!pip install flask-ngrok\n"
      ],
      "metadata": {
        "colab": {
          "base_uri": "https://localhost:8080/"
        },
        "id": "kh_Z6qTw7imz",
        "outputId": "796769cc-c217-477c-f730-fb62cf30b04b"
      },
      "execution_count": null,
      "outputs": [
        {
          "output_type": "stream",
          "name": "stdout",
          "text": [
            "Collecting flask-ngrok\n",
            "  Downloading flask_ngrok-0.0.25-py3-none-any.whl.metadata (1.8 kB)\n",
            "Requirement already satisfied: Flask>=0.8 in /usr/local/lib/python3.10/dist-packages (from flask-ngrok) (3.0.3)\n",
            "Requirement already satisfied: requests in /usr/local/lib/python3.10/dist-packages (from flask-ngrok) (2.32.3)\n",
            "Requirement already satisfied: Werkzeug>=3.0.0 in /usr/local/lib/python3.10/dist-packages (from Flask>=0.8->flask-ngrok) (3.1.3)\n",
            "Requirement already satisfied: Jinja2>=3.1.2 in /usr/local/lib/python3.10/dist-packages (from Flask>=0.8->flask-ngrok) (3.1.4)\n",
            "Requirement already satisfied: itsdangerous>=2.1.2 in /usr/local/lib/python3.10/dist-packages (from Flask>=0.8->flask-ngrok) (2.2.0)\n",
            "Requirement already satisfied: click>=8.1.3 in /usr/local/lib/python3.10/dist-packages (from Flask>=0.8->flask-ngrok) (8.1.7)\n",
            "Requirement already satisfied: blinker>=1.6.2 in /usr/local/lib/python3.10/dist-packages (from Flask>=0.8->flask-ngrok) (1.9.0)\n",
            "Requirement already satisfied: charset-normalizer<4,>=2 in /usr/local/lib/python3.10/dist-packages (from requests->flask-ngrok) (3.4.0)\n",
            "Requirement already satisfied: idna<4,>=2.5 in /usr/local/lib/python3.10/dist-packages (from requests->flask-ngrok) (3.10)\n",
            "Requirement already satisfied: urllib3<3,>=1.21.1 in /usr/local/lib/python3.10/dist-packages (from requests->flask-ngrok) (2.2.3)\n",
            "Requirement already satisfied: certifi>=2017.4.17 in /usr/local/lib/python3.10/dist-packages (from requests->flask-ngrok) (2024.8.30)\n",
            "Requirement already satisfied: MarkupSafe>=2.0 in /usr/local/lib/python3.10/dist-packages (from Jinja2>=3.1.2->Flask>=0.8->flask-ngrok) (3.0.2)\n",
            "Downloading flask_ngrok-0.0.25-py3-none-any.whl (3.1 kB)\n",
            "Installing collected packages: flask-ngrok\n",
            "Successfully installed flask-ngrok-0.0.25\n"
          ]
        }
      ]
    },
    {
      "cell_type": "code",
      "source": [
        "!pip install pyngrok\n"
      ],
      "metadata": {
        "colab": {
          "base_uri": "https://localhost:8080/"
        },
        "id": "sY7AUFJY7q9u",
        "outputId": "c4b330fc-e284-40d8-e7d1-ccfa729f334c"
      },
      "execution_count": null,
      "outputs": [
        {
          "output_type": "stream",
          "name": "stdout",
          "text": [
            "Collecting pyngrok\n",
            "  Downloading pyngrok-7.2.1-py3-none-any.whl.metadata (8.3 kB)\n",
            "Requirement already satisfied: PyYAML>=5.1 in /usr/local/lib/python3.10/dist-packages (from pyngrok) (6.0.2)\n",
            "Downloading pyngrok-7.2.1-py3-none-any.whl (22 kB)\n",
            "Installing collected packages: pyngrok\n",
            "Successfully installed pyngrok-7.2.1\n"
          ]
        }
      ]
    },
    {
      "cell_type": "code",
      "source": [
        "from pyngrok import ngrok\n"
      ],
      "metadata": {
        "id": "ch4du-wG84c2"
      },
      "execution_count": null,
      "outputs": []
    },
    {
      "cell_type": "code",
      "source": [
        "from pyngrok import ngrok\n",
        "\n",
        "# Ganti 'your_authtoken' dengan authtoken yang Anda salin dari dashboard ngrok\n",
        "ngrok.set_auth_token('2pogtHgjLenNZWa1i75Mutb2NLZ_JdJFbNzUKwMo14knhxur')\n",
        "\n",
        "# Sekarang, Anda bisa membuka tunnel ngrok\n",
        "public_url = ngrok.connect(5000)\n",
        "print('Public URL:', public_url)\n"
      ],
      "metadata": {
        "colab": {
          "base_uri": "https://localhost:8080/"
        },
        "id": "aHmQ9gdK86wL",
        "outputId": "0c37994a-5dee-4bd8-f305-e0fed9d29102"
      },
      "execution_count": null,
      "outputs": [
        {
          "output_type": "stream",
          "name": "stdout",
          "text": [
            "Public URL: NgrokTunnel: \"https://9aea-35-221-143-114.ngrok-free.app\" -> \"http://localhost:5000\"\n"
          ]
        }
      ]
    },
    {
      "cell_type": "code",
      "source": [
        "from pyngrok import ngrok\n",
        "\n",
        "# Membuka tunnel untuk port 5000\n",
        "public_url = ngrok.connect(5000)\n",
        "print('Public URL:', public_url)\n"
      ],
      "metadata": {
        "colab": {
          "base_uri": "https://localhost:8080/"
        },
        "id": "z-r64OWu99lS",
        "outputId": "ce55aeff-b593-450d-eadf-eaa83e0b876d"
      },
      "execution_count": null,
      "outputs": [
        {
          "output_type": "stream",
          "name": "stdout",
          "text": [
            "Public URL: NgrokTunnel: \"https://eadd-35-221-143-114.ngrok-free.app\" -> \"http://localhost:5000\"\n"
          ]
        }
      ]
    },
    {
      "cell_type": "code",
      "source": [
        "from flask import Flask, request, jsonify\n",
        "import pandas as pd\n",
        "import joblib\n",
        "from sklearn.model_selection import train_test_split, cross_val_score\n",
        "from sklearn.ensemble import RandomForestClassifier\n",
        "from sklearn.preprocessing import LabelEncoder\n",
        "from sklearn.metrics import classification_report\n",
        "import os\n",
        "\n",
        "app = Flask(__name__)\n",
        "\n",
        "# Fungsi untuk melatih model dan menyimpannya\n",
        "def train_model():\n",
        "    # Membaca dataset lokal\n",
        "    data = pd.read_csv('penguins_size.csv')  # Pastikan path sesuai dengan lokasi dataset Anda\n",
        "\n",
        "    # Memeriksa beberapa baris pertama dataset untuk memastikan dataset terbaca\n",
        "    print(data.head())\n",
        "\n",
        "    # Menghapus baris yang memiliki nilai null\n",
        "    data = data.dropna()\n",
        "\n",
        "    # Encode kolom 'sex' (karena merupakan kategori)\n",
        "    label_encoder = LabelEncoder()\n",
        "    data['sex'] = label_encoder.fit_transform(data['sex'])\n",
        "\n",
        "    # Memilih fitur dan target\n",
        "    X = data[['culmen_length_mm', 'culmen_depth_mm', 'flipper_length_mm', 'body_mass_g', 'sex']]\n",
        "    y = data['species']\n",
        "\n",
        "    # Membagi data menjadi train dan test\n",
        "    X_train, X_test, y_train, y_test = train_test_split(X, y, test_size=0.2, random_state=42)\n",
        "\n",
        "    # Melatih model Random Forest dengan class_weight untuk mengatasi ketidakseimbangan kelas\n",
        "    model = RandomForestClassifier(n_estimators=100, random_state=42, class_weight='balanced')\n",
        "    model.fit(X_train, y_train)\n",
        "\n",
        "    # Menyimpan model dan label encoder ke file\n",
        "    joblib.dump(model, 'penguin_species_model.pkl')\n",
        "    joblib.dump(label_encoder, 'label_encoder.pkl')\n",
        "\n",
        "    # Menggunakan cross-validation untuk evaluasi lebih lanjut\n",
        "    scores = cross_val_score(model, X, y, cv=5)\n",
        "    print(f\"Cross-validation scores: {scores}\")\n",
        "    print(f\"Mean score: {scores.mean()}\")\n",
        "\n",
        "    # Evaluasi model pada data uji\n",
        "    y_pred = model.predict(X_test)\n",
        "    print(\"Classification Report:\")\n",
        "    print(classification_report(y_test, y_pred))\n",
        "\n",
        "    return model, label_encoder\n",
        "\n",
        "# Memeriksa apakah model sudah ada, jika tidak, melatih model\n",
        "def load_or_train_model():\n",
        "    if os.path.exists('penguin_species_model.pkl') and os.path.exists('label_encoder.pkl'):\n",
        "        # Memuat model dan label encoder dari file\n",
        "        model = joblib.load('penguin_species_model.pkl')\n",
        "        label_encoder = joblib.load('label_encoder.pkl')\n",
        "        print(\"Model and label encoder loaded from files.\")\n",
        "    else:\n",
        "        print(\"Model and label encoder not found, training a new model...\")\n",
        "        model, label_encoder = train_model()\n",
        "\n",
        "    return model, label_encoder\n",
        "\n",
        "# Memuat model dan label encoder\n",
        "model, label_encoder = load_or_train_model()\n",
        "\n",
        "@app.route('/predict', methods=['POST'])\n",
        "def predict():\n",
        "    try:\n",
        "        # Mendapatkan data JSON dari request\n",
        "        data = request.get_json()\n",
        "        print(\"Data received:\", data)\n",
        "\n",
        "        # Ekstrak fitur dari data input\n",
        "        features = data['features']\n",
        "\n",
        "        # Membuat DataFrame untuk fitur\n",
        "        input_data = pd.DataFrame([features], columns=['culmen_length_mm', 'culmen_depth_mm', 'flipper_length_mm', 'body_mass_g', 'sex'])\n",
        "\n",
        "        # Melakukan prediksi\n",
        "        prediction = model.predict(input_data)\n",
        "\n",
        "        # Mengembalikan hasil prediksi\n",
        "        return jsonify({'prediction': prediction[0]})\n",
        "\n",
        "    except Exception as e:\n",
        "        return jsonify({'error': str(e)})\n",
        "\n",
        "\n",
        "if __name__ == '__main__':\n",
        "    app.run(debug=True, use_reloader=False)\n"
      ],
      "metadata": {
        "id": "O_JkXK-R-WhO"
      },
      "execution_count": null,
      "outputs": []
    }
  ],
  "metadata": {
    "colab": {
      "provenance": []
    },
    "kernelspec": {
      "display_name": "Python 3",
      "name": "python3"
    }
  },
  "nbformat": 4,
  "nbformat_minor": 0
}